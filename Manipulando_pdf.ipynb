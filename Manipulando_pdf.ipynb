{
  "nbformat": 4,
  "nbformat_minor": 0,
  "metadata": {
    "colab": {
      "provenance": [],
      "authorship_tag": "ABX9TyNTrFzqN6LfB0ABfQVSqV+P",
      "include_colab_link": true
    },
    "kernelspec": {
      "name": "python3",
      "display_name": "Python 3"
    },
    "language_info": {
      "name": "python"
    }
  },
  "cells": [
    {
      "cell_type": "markdown",
      "metadata": {
        "id": "view-in-github",
        "colab_type": "text"
      },
      "source": [
        "<a href=\"https://colab.research.google.com/github/Thiago383/Manipulando-Arquivos/blob/main/Manipulando_pdf.ipynb\" target=\"_parent\"><img src=\"https://colab.research.google.com/assets/colab-badge.svg\" alt=\"Open In Colab\"/></a>"
      ]
    },
    {
      "cell_type": "markdown",
      "source": [
        "# Transformando um PDF em um DataFreme."
      ],
      "metadata": {
        "id": "_G144beX4XCz"
      }
    },
    {
      "cell_type": "markdown",
      "source": [
        "``` !pip install  ```: Escomando serve para instalar as bibliotecas.\n",
        "\n",
        "\n",
        "``` pymupdf ```: Biblioteca para leitura e extração de texto de aquivos PDF.\n",
        "\n",
        "\n",
        "``` pandas ```: Biblioteca usada para manipulação de dados em formato de tabelas DataFremes.\n",
        "\n",
        "``` import fitz ```: Módulo do PyMuPDF para abrir e trabalhar com PDFs.\n"
      ],
      "metadata": {
        "id": "sN-MSNpl5wFW"
      }
    },
    {
      "cell_type": "code",
      "source": [
        "# Biblioteca pra manipular PDFs\n",
        "!pip install pymupdf pandas\n",
        "\n",
        "# Importar bibliotecas\n",
        "import fitz           # PyMuPDF\n",
        "import pandas as pd   # Biblioteca Pandas\n"
      ],
      "metadata": {
        "colab": {
          "base_uri": "https://localhost:8080/"
        },
        "collapsed": true,
        "id": "ZcxCbMZY4lMe",
        "outputId": "ec01cb06-bfc8-4a97-e641-b79e62998a34"
      },
      "execution_count": null,
      "outputs": [
        {
          "output_type": "stream",
          "name": "stdout",
          "text": [
            "Requirement already satisfied: pymupdf in /usr/local/lib/python3.11/dist-packages (1.25.3)\n",
            "Requirement already satisfied: pandas in /usr/local/lib/python3.11/dist-packages (2.2.2)\n",
            "Requirement already satisfied: numpy>=1.23.2 in /usr/local/lib/python3.11/dist-packages (from pandas) (1.26.4)\n",
            "Requirement already satisfied: python-dateutil>=2.8.2 in /usr/local/lib/python3.11/dist-packages (from pandas) (2.8.2)\n",
            "Requirement already satisfied: pytz>=2020.1 in /usr/local/lib/python3.11/dist-packages (from pandas) (2025.1)\n",
            "Requirement already satisfied: tzdata>=2022.7 in /usr/local/lib/python3.11/dist-packages (from pandas) (2025.1)\n",
            "Requirement already satisfied: six>=1.5 in /usr/local/lib/python3.11/dist-packages (from python-dateutil>=2.8.2->pandas) (1.17.0)\n"
          ]
        }
      ]
    },
    {
      "cell_type": "markdown",
      "source": [
        "``` pdf_path ``` Váriavel que contém o caminho do arquivo PDF.\n",
        "\n",
        "``` text = \"\" ``` Variável inicializada como uma String vazia para armazenar todo o texto extraído do PDF."
      ],
      "metadata": {
        "id": "pO10YHii6z4v"
      }
    },
    {
      "cell_type": "code",
      "source": [
        "# Carregar o PDF e extrair o texto\n",
        "pdf_path = \"/content/Feriasbloqueio02_20252.pdf\"\n",
        "text = \"\"\n"
      ],
      "metadata": {
        "id": "i68R3_rz60lK"
      },
      "execution_count": null,
      "outputs": []
    },
    {
      "cell_type": "markdown",
      "source": [
        "**Abrir e ler o PDF**\n",
        "\n",
        "``` fitz.open(pdf_path) ```: Abre o arquivo PDF no caminho especificado.\n",
        "\n",
        "``` for page in pdf ```: Intera sobre a página do PDF.\n",
        "\n",
        "``` page.get_text() ```: Extrai o texto completo da página atual.\n",
        "\n",
        "``` text += page.get_text() ```: Adiciona o texto extraído ao final da váriavel ``` text```.\n",
        "\n",
        "No final, a váriavel ``` text ``` contém todo o texto do PDF concatenado."
      ],
      "metadata": {
        "id": "g9jqn0pGBq_0"
      }
    },
    {
      "cell_type": "code",
      "source": [
        "with fitz.open(pdf_path) as pdf:\n",
        "  for page in pdf:\n",
        "    text += page.get_text()"
      ],
      "metadata": {
        "id": "XNf7xolkB5En"
      },
      "execution_count": null,
      "outputs": []
    },
    {
      "cell_type": "markdown",
      "source": [
        "**Processar o texto para criar o DataFreme**\n",
        "\n",
        "``` lines = text.split(\"\\n\") ```: Divide o texto em uma lista de linhas usando a quebra de linha \"\\n\" como delimitador.\n",
        "\n",
        "``` line.split() ```: Divide cada linha em uma lista de palavras usando espaços como delimitadores.\n",
        "\n",
        "``` if line.strip() ```: Removo linhas vazias ou com apenas espaços.\n",
        "\n",
        "``` data ```: Uma lista de listas, onde cada sub-lista representa uma linha de dados extraída do PDF."
      ],
      "metadata": {
        "id": "IiZFwIOyM-kg"
      }
    },
    {
      "cell_type": "code",
      "source": [
        "lines = text.split(\"\\n\")\n",
        "data = [line.split() for line in lines if line.strip()]"
      ],
      "metadata": {
        "id": "NVnP0LAtOEbt"
      },
      "execution_count": 14,
      "outputs": []
    }
  ]
}